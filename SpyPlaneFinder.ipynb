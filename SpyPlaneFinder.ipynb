{
 "cells": [
  {
   "cell_type": "code",
   "execution_count": 1,
   "metadata": {},
   "outputs": [],
   "source": [
    "import pandas as pd\n",
    "import numpy as np\n",
    "import matplotlib.pyplot as plt"
   ]
  },
  {
   "cell_type": "code",
   "execution_count": 2,
   "metadata": {},
   "outputs": [],
   "source": [
    "import sys\n",
    "sys.path.append(r'Desktop/SpyPlaneFinder/')  # change to your own directory, if this does not work."
   ]
  },
  {
   "cell_type": "code",
   "execution_count": 3,
   "metadata": {},
   "outputs": [
    {
     "name": "stdout",
     "output_type": "stream",
     "text": [
      "Please check if this is the correct directory for your Electron repository: \n"
     ]
    },
    {
     "data": {
      "text/plain": [
       "'/Users/Rico/Desktop/SpyPlaneFinder/data'"
      ]
     },
     "execution_count": 3,
     "metadata": {},
     "output_type": "execute_result"
    }
   ],
   "source": [
    "directory = r'Desktop/SpyPlaneFinder/data/'\n",
    "import os\n",
    "os.chdir(directory)\n",
    "print('Please check if this is the correct directory for your Electron repository: ')\n",
    "os.getcwd()"
   ]
  },
  {
   "cell_type": "markdown",
   "metadata": {},
   "source": [
    "I think the data has already been filtered appropriately and we only really need the features data. I'm not sure how we're supposed to use the feds data, since it just lists government-associated planes, not necessarily spy planes. And I think the faa_registration data has already been used to filter the data that ends up in planes.features."
   ]
  },
  {
   "cell_type": "code",
   "execution_count": 4,
   "metadata": {},
   "outputs": [],
   "source": [
    "faa_reg = pd.read_csv('faa_registration.csv')\n",
    "feds = pd.read_csv('feds.csv')\n",
    "ftrs = pd.read_csv('planes_features.csv')"
   ]
  },
  {
   "cell_type": "code",
   "execution_count": 5,
   "metadata": {},
   "outputs": [
    {
     "name": "stdout",
     "output_type": "stream",
     "text": [
      "314288\n",
      "199\n",
      "19799\n"
     ]
    }
   ],
   "source": [
    "print(len(faa_reg.index))\n",
    "print(len(feds.index))\n",
    "print(len(ftrs.index))"
   ]
  },
  {
   "cell_type": "code",
   "execution_count": null,
   "metadata": {},
   "outputs": [],
   "source": []
  },
  {
   "cell_type": "code",
   "execution_count": null,
   "metadata": {},
   "outputs": [],
   "source": []
  }
 ],
 "metadata": {
  "kernelspec": {
   "display_name": "Python 3",
   "language": "python",
   "name": "python3"
  },
  "language_info": {
   "codemirror_mode": {
    "name": "ipython",
    "version": 3
   },
   "file_extension": ".py",
   "mimetype": "text/x-python",
   "name": "python",
   "nbconvert_exporter": "python",
   "pygments_lexer": "ipython3",
   "version": "3.6.4"
  }
 },
 "nbformat": 4,
 "nbformat_minor": 2
}
