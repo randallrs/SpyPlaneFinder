{
 "cells": [
  {
   "cell_type": "code",
   "execution_count": 7,
   "metadata": {
    "collapsed": true
   },
   "outputs": [],
   "source": [
    "import pandas as pd\n",
    "import numpy as np\n",
    "import matplotlib.pyplot as plt\n",
    "import os\n",
    "import sys"
   ]
  },
  {
   "cell_type": "code",
   "execution_count": 8,
   "metadata": {
    "collapsed": false
   },
   "outputs": [],
   "source": [
    "dir_repo = os.path.abspath(os.path.join(os.getcwd(), '..'))\n",
    "dir_data = os.path.join(dir_repo, 'data')\n",
    "\n",
    "sys.path.append(dir_repo)  # change to your own directory, if this does not work."
   ]
  },
  {
   "cell_type": "code",
   "execution_count": 9,
   "metadata": {
    "collapsed": false
   },
   "outputs": [
    {
     "name": "stdout",
     "output_type": "stream",
     "text": [
      "Please check if this is the correct directory for your Electron repository: \n"
     ]
    },
    {
     "data": {
      "text/plain": [
       "'/Users/Lab/Documents/Kaggle/Spies/SpyPlaneFinder'"
      ]
     },
     "execution_count": 9,
     "metadata": {},
     "output_type": "execute_result"
    }
   ],
   "source": [
    "print('Please check if this is the correct directory for your Electron repository: ')\n",
    "dir_repo"
   ]
  },
  {
   "cell_type": "markdown",
   "metadata": {},
   "source": [
    "I think the data has already been filtered appropriately and we only really need the features data. I'm not sure how we're supposed to use the feds data, since it just lists government-associated planes, not necessarily spy planes. And I think the faa_registration data has already been used to filter the data that ends up in planes.features."
   ]
  },
  {
   "cell_type": "code",
   "execution_count": 13,
   "metadata": {
    "collapsed": false
   },
   "outputs": [],
   "source": [
    "filepath_faa_reg = os.path.join(dir_data, 'faa_registration.csv')\n",
    "filepath_feds = os.path.join(dir_data, 'datafeds.csv')\n",
    "filepath_ftrs = os.path.join(dir_data, 'planes_features.csv')\n",
    "\n",
    "faa_reg = pd.read_csv(filepath_faa_reg)\n",
    "feds = pd.read_csv(filepath_feds)\n",
    "ftrs = pd.read_csv(filepath_ftrs)"
   ]
  },
  {
   "cell_type": "code",
   "execution_count": 21,
   "metadata": {
    "collapsed": false
   },
   "outputs": [
    {
     "name": "stdout",
     "output_type": "stream",
     "text": [
      "314288\n",
      "199\n",
      "19799\n"
     ]
    }
   ],
   "source": [
    "print(len(faa_reg.index))\n",
    "print(len(feds.index))\n",
    "print(len(ftrs.index))"
   ]
  },
  {
   "cell_type": "code",
   "execution_count": null,
   "metadata": {
    "collapsed": true
   },
   "outputs": [],
   "source": []
  }
 ],
 "metadata": {
  "anaconda-cloud": {},
  "kernelspec": {
   "display_name": "Python [conda env:S2DS]",
   "language": "python",
   "name": "conda-env-S2DS-py"
  },
  "language_info": {
   "codemirror_mode": {
    "name": "ipython",
    "version": 3
   },
   "file_extension": ".py",
   "mimetype": "text/x-python",
   "name": "python",
   "nbconvert_exporter": "python",
   "pygments_lexer": "ipython3",
   "version": "3.5.3"
  }
 },
 "nbformat": 4,
 "nbformat_minor": 2
}
